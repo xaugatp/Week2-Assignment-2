{
 "cells": [
  {
   "cell_type": "code",
   "execution_count": 2,
   "id": "8370c944-51b5-4bf3-af55-03ec99cc9ccb",
   "metadata": {},
   "outputs": [],
   "source": [
    "#Q1. How do you comment code in Python? What are the different types of comments?"
   ]
  },
  {
   "cell_type": "code",
   "execution_count": 3,
   "id": "df7c6816-d99a-44d4-9e78-3b85c2bf5cc3",
   "metadata": {},
   "outputs": [],
   "source": [
    "# We comment code in python by using \"#\".\n",
    "#The diffrent types of comments in python are single line comment and multi line comment.Single line comment is written using \"# \" and multi line comment is written using '''....'''"
   ]
  },
  {
   "cell_type": "code",
   "execution_count": 4,
   "id": "2a3911be-2c28-4742-8dd3-f4aaacb46fa7",
   "metadata": {},
   "outputs": [],
   "source": [
    "#Q2. What are variables in Python? How do you declare and assign values to variables?"
   ]
  },
  {
   "cell_type": "code",
   "execution_count": 6,
   "id": "4bac0615-008c-4e40-896e-ba1321f1015e",
   "metadata": {},
   "outputs": [],
   "source": [
    "# Variables are the containers where we store the data in the respective program. \n",
    "# To declare a variable we simply give a variable name then = and then the value. In python we don't have to give the variable type like in other programming language."
   ]
  },
  {
   "cell_type": "code",
   "execution_count": 8,
   "id": "b4ace364-18cc-437c-abbe-0268178220e2",
   "metadata": {},
   "outputs": [],
   "source": [
    "#Q3. How do you convert one data type to another in Python?"
   ]
  },
  {
   "cell_type": "code",
   "execution_count": 9,
   "id": "7bd4f161-efa2-42ee-bfe6-2d060dbe455f",
   "metadata": {},
   "outputs": [],
   "source": [
    "# In python we can see two ways implicit type conversionand explicit type conversion.\n",
    "# In implicit type conversion system converts the data type by itself automatically and in explicit type conversion user have to do it manually.Eg:"
   ]
  },
  {
   "cell_type": "code",
   "execution_count": 10,
   "id": "6a3b4e0f-740a-4a9d-a2fe-63ed10b86334",
   "metadata": {},
   "outputs": [],
   "source": [
    "# implicit type conversion \n",
    "a = 10\n",
    "# explicit type conversion\n",
    "a = str(a)"
   ]
  },
  {
   "cell_type": "code",
   "execution_count": 11,
   "id": "96c3a930-70dd-4b52-ae30-f7685120cc1f",
   "metadata": {},
   "outputs": [],
   "source": [
    "#Q4. How do you write and execute a Python script from the command line?"
   ]
  },
  {
   "cell_type": "code",
   "execution_count": 12,
   "id": "555c3a3c-c46c-4816-89e2-9f1b2f4a3f9d",
   "metadata": {},
   "outputs": [],
   "source": [
    "# To do this we can simply go to the command line and type python3 then hit enter and now we can write our script there."
   ]
  },
  {
   "cell_type": "code",
   "execution_count": 13,
   "id": "d55f3c82-dbc7-4668-bbd9-e65e9770f3d1",
   "metadata": {},
   "outputs": [],
   "source": [
    "#Q5. Given a list my_list = [1, 2, 3, 4, 5], write the code to slice the list and obtain the sub-list [2, 3]."
   ]
  },
  {
   "cell_type": "code",
   "execution_count": 15,
   "id": "e4ca3a96-cf9c-4493-986e-2d032d19f534",
   "metadata": {},
   "outputs": [
    {
     "data": {
      "text/plain": [
       "[2, 3]"
      ]
     },
     "execution_count": 15,
     "metadata": {},
     "output_type": "execute_result"
    }
   ],
   "source": [
    "my_list = [1, 2, 3, 4, 5]\n",
    "new_list = [my_list[1],my_list[2]]\n",
    "new_list"
   ]
  },
  {
   "cell_type": "code",
   "execution_count": 16,
   "id": "d3e4d870-3406-40d2-b173-277ee6b06175",
   "metadata": {},
   "outputs": [],
   "source": [
    "# Q6. What is a complex number in mathematics, and how is it represented in Python?"
   ]
  },
  {
   "cell_type": "code",
   "execution_count": 17,
   "id": "4c1e0afa-b09c-404a-99b4-83f3bacba8ac",
   "metadata": {},
   "outputs": [],
   "source": [
    "# Complex number in mathematics is the number which is in the form of a+bi where a is reasl and bi is imiginary part. And in python it is represented by 5+6j, where imginary part must be always represented using j.\n"
   ]
  },
  {
   "cell_type": "code",
   "execution_count": 18,
   "id": "66436398-1d86-40c9-a482-a58dec2fc229",
   "metadata": {},
   "outputs": [],
   "source": [
    "complex = 5+9j"
   ]
  },
  {
   "cell_type": "code",
   "execution_count": 19,
   "id": "2b524ba1-17ca-4678-8dff-ee347d17eee7",
   "metadata": {},
   "outputs": [],
   "source": [
    "#Q7. What is the correct way to declare a variable named age and assign the value 25 to it?"
   ]
  },
  {
   "cell_type": "code",
   "execution_count": 20,
   "id": "3fc688b6-05cd-412a-8a21-6ec00549758a",
   "metadata": {},
   "outputs": [],
   "source": [
    " age = 25"
   ]
  },
  {
   "cell_type": "code",
   "execution_count": 21,
   "id": "836b07db-0b80-41c6-9d63-49bd9eae4071",
   "metadata": {},
   "outputs": [],
   "source": [
    "#Q8. Declare a variable named price and assign the value 9.99 to it. What data type does this variable belong to?"
   ]
  },
  {
   "cell_type": "code",
   "execution_count": 22,
   "id": "6ceec51e-6538-451a-ad2c-5123f6f4bb0f",
   "metadata": {},
   "outputs": [
    {
     "data": {
      "text/plain": [
       "float"
      ]
     },
     "execution_count": 22,
     "metadata": {},
     "output_type": "execute_result"
    }
   ],
   "source": [
    "price = 9.99\n",
    "type(price) # the type is float."
   ]
  },
  {
   "cell_type": "code",
   "execution_count": 24,
   "id": "c4257c5e-94ca-496d-99c3-ef9fe6e97800",
   "metadata": {},
   "outputs": [],
   "source": [
    "#Q9. Create a variable named name and assign your full name to it as a string. How would you print the value of this variable?"
   ]
  },
  {
   "cell_type": "code",
   "execution_count": 25,
   "id": "2a321df0-7526-486e-a4bc-383bdd73b994",
   "metadata": {},
   "outputs": [
    {
     "name": "stdout",
     "output_type": "stream",
     "text": [
      "Saugat Poudel\n"
     ]
    }
   ],
   "source": [
    "name = \"Saugat Poudel\" # we assign the value to a variable this way \n",
    "print(name) # we print the value by calling the variable "
   ]
  },
  {
   "cell_type": "code",
   "execution_count": 26,
   "id": "6dceac0c-1cab-4221-842a-a09a692337a3",
   "metadata": {},
   "outputs": [],
   "source": [
    "# Q10. Given the string \"Hello, World!\", extract the substring \"World\"."
   ]
  },
  {
   "cell_type": "code",
   "execution_count": 28,
   "id": "a81a355d-7ea9-4d25-b982-53eb5e939cb8",
   "metadata": {},
   "outputs": [
    {
     "name": "stdout",
     "output_type": "stream",
     "text": [
      " World\n"
     ]
    }
   ],
   "source": [
    "string = \"Hello World\"\n",
    "substring = string[5:11]\n",
    "print(substring)"
   ]
  },
  {
   "cell_type": "code",
   "execution_count": 29,
   "id": "044e9cc3-a70a-4a43-bdc4-a68bc7bb036f",
   "metadata": {},
   "outputs": [],
   "source": [
    "#Q11. Create a variable named \"is_student\" and assign it a boolean value indicating whether you are currently a student or not."
   ]
  },
  {
   "cell_type": "code",
   "execution_count": 30,
   "id": "9478f188-0ab7-471c-a823-a3722ed0a5a5",
   "metadata": {},
   "outputs": [],
   "source": [
    "is_student = True"
   ]
  },
  {
   "cell_type": "code",
   "execution_count": null,
   "id": "c95a5db0-c778-4c8f-95ef-f655d27b09d3",
   "metadata": {},
   "outputs": [],
   "source": []
  }
 ],
 "metadata": {
  "kernelspec": {
   "display_name": "Python 3 (ipykernel)",
   "language": "python",
   "name": "python3"
  },
  "language_info": {
   "codemirror_mode": {
    "name": "ipython",
    "version": 3
   },
   "file_extension": ".py",
   "mimetype": "text/x-python",
   "name": "python",
   "nbconvert_exporter": "python",
   "pygments_lexer": "ipython3",
   "version": "3.10.8"
  }
 },
 "nbformat": 4,
 "nbformat_minor": 5
}
